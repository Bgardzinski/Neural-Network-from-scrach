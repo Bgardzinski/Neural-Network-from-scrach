{
 "cells": [
  {
   "cell_type": "code",
   "execution_count": 222,
   "metadata": {},
   "outputs": [],
   "source": [
    "import numpy as np\n",
    "\n",
    "\n",
    "class NN:\n",
    "    \n",
    "    def __init__(self, nlayers, actv_func):\n",
    "        self.weights = []\n",
    "        self.outputs = []\n",
    "        self.activations = [self.relu][actv_func]\n",
    "        self.final = np.zeros(nlayers[-1])\n",
    "        self.nb_layers = len(nlayers)\n",
    "        for i in range(len(nlayers)-1):\n",
    "            self.weights.append(np.random.rand(nlayers[i],nlayers[i+1]))\n",
    "            self.outputs.append(np.zeros(nlayers[i+1]))\n",
    "            \n",
    "    def relu(self, a):\n",
    "        return(np.array(list(map(lambda d: max(0,d),a))))\n",
    "            \n",
    "    def calc_output(self, iput):\n",
    "        y_prev = iput\n",
    "        if len(iput) != self.weights[0].shape[0]:\n",
    "            print('Not enough or too much inputs!')\n",
    "        else:\n",
    "            for i in range(self.nb_layers-1):\n",
    "                for j in range(len(self.outputs[i])):\n",
    "                    for k in range(len(y_prev)):\n",
    "                        self.outputs[i][j] = self.outputs[i][j] + y_prev[k]*self.weights[i][k][j]\n",
    "                y_prev = self.activations(self.outputs[i])\n",
    "        self.final = self.outputs[self.nb_layers-2]\n",
    "        \n",
    "    "
   ]
  },
  {
   "cell_type": "code",
   "execution_count": 218,
   "metadata": {},
   "outputs": [],
   "source": [
    "x = NN([2,2,2], 0)"
   ]
  },
  {
   "cell_type": "code",
   "execution_count": 219,
   "metadata": {},
   "outputs": [],
   "source": [
    "x.calc_output([3,-1])"
   ]
  },
  {
   "cell_type": "code",
   "execution_count": 220,
   "metadata": {},
   "outputs": [
    {
     "data": {
      "text/plain": [
       "array([0.13904157, 0.35985782])"
      ]
     },
     "execution_count": 220,
     "metadata": {},
     "output_type": "execute_result"
    }
   ],
   "source": [
    "x.final"
   ]
  },
  {
   "cell_type": "code",
   "execution_count": 113,
   "metadata": {},
   "outputs": [
    {
     "data": {
      "text/plain": [
       "15"
      ]
     },
     "execution_count": 113,
     "metadata": {},
     "output_type": "execute_result"
    }
   ],
   "source": [
    "x.x.weights[0].shape[0]"
   ]
  },
  {
   "cell_type": "code",
   "execution_count": 210,
   "metadata": {},
   "outputs": [
    {
     "data": {
      "text/plain": [
       "array([ 3,  4,  0,  0, 46,  0])"
      ]
     },
     "execution_count": 210,
     "metadata": {},
     "output_type": "execute_result"
    }
   ],
   "source": [
    "np.array(list(map(lambda d: max(0,d),w)))"
   ]
  },
  {
   "cell_type": "code",
   "execution_count": 209,
   "metadata": {},
   "outputs": [],
   "source": [
    "w = [3,4,-1,-0.9,46,-0.22]"
   ]
  },
  {
   "cell_type": "code",
   "execution_count": 208,
   "metadata": {},
   "outputs": [
    {
     "data": {
      "text/plain": [
       "array([1.0071635 , 1.17140946])"
      ]
     },
     "execution_count": 208,
     "metadata": {},
     "output_type": "execute_result"
    }
   ],
   "source": [
    "x.outputs[0]"
   ]
  },
  {
   "cell_type": "code",
   "execution_count": null,
   "metadata": {},
   "outputs": [],
   "source": []
  }
 ],
 "metadata": {
  "kernelspec": {
   "display_name": "Python 3",
   "language": "python",
   "name": "python3"
  },
  "language_info": {
   "codemirror_mode": {
    "name": "ipython",
    "version": 3
   },
   "file_extension": ".py",
   "mimetype": "text/x-python",
   "name": "python",
   "nbconvert_exporter": "python",
   "pygments_lexer": "ipython3",
   "version": "3.6.5"
  }
 },
 "nbformat": 4,
 "nbformat_minor": 2
}
